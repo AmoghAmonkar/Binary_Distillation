{
 "cells": [
  {
   "cell_type": "markdown",
   "metadata": {},
   "source": [
    "## Dependencies"
   ]
  },
  {
   "cell_type": "code",
   "execution_count": 1,
   "metadata": {},
   "outputs": [],
   "source": [
    "#Including required Libraries required\n",
    "import ipywidgets as wg\n",
    "import IPython.display as display \n",
    "import numpy as np\n",
    "from matplotlib import pyplot as plt\n",
    "import matplotlib as mpl\n",
    "from scipy.optimize import fsolve\n",
    "\n",
    "mpl.rcParams['figure.dpi'] = 120"
   ]
  },
  {
   "cell_type": "markdown",
   "metadata": {},
   "source": [
    "## Polynomial models for root finding"
   ]
  },
  {
   "cell_type": "code",
   "execution_count": 2,
   "metadata": {},
   "outputs": [],
   "source": [
    "def Eq_2(X, coef, Y):\n",
    "    l = 2\n",
    "    return(coef[l-2]*(X**(l)) + coef[l-1]*(X**(l-1)) + coef[l]*(X**(l-2)))\n",
    "\n",
    "def Eq_3(X, coef, Y):\n",
    "    l = 3\n",
    "    return(coef[l-3]*(X**(l)) + coef[l-2]*(X**(l-1)) + coef[l-1]*(X**(l-2)) + coef[l]*(X**(l-3)))\n",
    "\n",
    "def Eq_4(X, coef, Y):\n",
    "    l = 4\n",
    "    return(coef[l-4]*(X**(l)) + coef[l-3]*(X**(l-1)) + coef[l-2]*(X**(l-2)) + coef[l-1]*(X**(l-3)) + ((coef[l]*(X**(l-4)) - Y)))\n",
    "\n",
    "def Eq_5(X, coef, Y):\n",
    "    l = 5\n",
    "    return(coef[l-5]*(X**(l)) + coef[l-4]*(X**(l-1)) + coef[l-3]*(X**(l-2)) + coef[l-2]*(X**(l-3)) + coef[l-1]*(X**(l-4)) + ((coef[l]*(X**(l-5)))) - Y)\n",
    "\n",
    "def Eq_6(X, coef, Y):\n",
    "    l = 6\n",
    "    return(coef[l-6]*(X**(l)) + coef[l-5]*(X**(l-1)) + coef[l-4]*(X**(l-2)) + coef[l-3]*(X**(l-3)) + coef[l-2]*(X**(l-4)) + coef[l-1]*(X**(l-5)) + ((coef[l]*(X**(l-6))) - Y))\n",
    "    \n",
    "def Eq_7(X, coef, Y):   \n",
    "    l = 7\n",
    "    return(coef[l-7]*(X**(l)) + coef[l-6]*(X**(l-1)) + coef[l-5]*(X**(l-2)) + coef[l-4]*(X**(l-3)) + coef[l-3]*(X**(l-4)) + coef[l-2]*(X**(l-5)) + coef[l-1]*(X**(l-6)) + ((coef[l]*(X**(l-7))) - Y))"
   ]
  },
  {
   "cell_type": "markdown",
   "metadata": {},
   "source": [
    "## Function for fitting a smooth curve in equilibrium data"
   ]
  },
  {
   "cell_type": "code",
   "execution_count": 3,
   "metadata": {},
   "outputs": [],
   "source": [
    "def FitCurve(x,y,X, l):\n",
    "    coeff = np.polyfit(x,y,l)\n",
    "    \n",
    "    if(l == 2):\n",
    "        Y = coeff[l-2]*(X**(l)) + coeff[l-1]*(X**(l-1)) + coeff[l]*(X**(l-2))\n",
    "    if(l == 3):\n",
    "        Y = coeff[l-3]*(X**(l)) + coeff[l-2]*(X**(l-1)) + coeff[l-1]*(X**(l-2)) + coeff[l]*(X**(l-3))  \n",
    "    if(l == 4):\n",
    "        Y = coeff[l-4]*(X**(l)) + coeff[l-3]*(X**(l-1)) + coeff[l-2]*(X**(l-2)) + coeff[l-1]*(X**(l-3)) + coeff[l]*(X**(l-4))  \n",
    "    if(l == 5):\n",
    "        Y = coeff[l-5]*(X**(l)) + coeff[l-4]*(X**(l-1)) + coeff[l-3]*(X**(l-2)) + coeff[l-2]*(X**(l-3)) + coeff[l-1]*(X**(l-4)) + coeff[l]*(X**(l-5)) \n",
    "    if(l == 6):\n",
    "        Y = coeff[l-6]*(X**(l)) + coeff[l-5]*(X**(l-1)) + coeff[l-4]*(X**(l-2)) + coeff[l-3]*(X**(l-3)) + coeff[l-2]*(X**(l-4)) + coeff[l-1]*(X**(l-5)) + coeff[l]*(X**(l-6))\n",
    "    if(l == 7):\n",
    "        Y = coeff[l-7]*(X**(l)) + coeff[l-6]*(X**(l-1)) + coeff[l-5]*(X**(l-2)) + coeff[l-4]*(X**(l-3)) + coeff[l-3]*(X**(l-4)) + coeff[l-2]*(X**(l-5)) + coeff[l-1]*(X**(l-6)) + ((coeff[l]*(X**(l-7))))\n",
    "\n",
    "    return coeff, Y"
   ]
  },
  {
   "cell_type": "markdown",
   "metadata": {},
   "source": [
    "## Function to calculate x coordinate based on the corresponding y coordinate"
   ]
  },
  {
   "cell_type": "code",
   "execution_count": 4,
   "metadata": {},
   "outputs": [],
   "source": [
    "def Get_X(Y, coeff, x_samp,order):\n",
    "    index = int(Y*100)\n",
    "    init_gues = x_samp[index]\n",
    "    \n",
    "    if (order == 2):\n",
    "        DumMy_X = fsolve(Eq_2, init_gues, (coeff, Y))\n",
    "    if (order == 3):\n",
    "        DumMy_X = fsolve(Eq_3, init_gues, (coeff, Y))\n",
    "    if (order == 4):\n",
    "        DumMy_X = fsolve(Eq_4, init_gues, (coeff, Y))\n",
    "    elif (order == 5):\n",
    "        DumMy_X = fsolve(Eq_5, init_gues, (coeff, Y))\n",
    "    elif (order == 6):\n",
    "        DumMy_X = fsolve(Eq_6, init_gues, (coeff, Y))\n",
    "    elif (order == 7):\n",
    "        DumMy_X = fsolve(Eq_7, init_gues, (coeff, Y))  \n",
    "    \n",
    "    return (DumMy_X)"
   ]
  },
  {
   "cell_type": "markdown",
   "metadata": {},
   "source": [
    "## Distillation Class"
   ]
  },
  {
   "cell_type": "code",
   "execution_count": 5,
   "metadata": {},
   "outputs": [],
   "source": [
    "class Distillation():\n",
    "    # Parameterized Constructor\n",
    "    def __init__(self,x,y,xd,xf,xw,r,f):\n",
    "        #Setting Equillibrium Curve\n",
    "        self.X = x\n",
    "        self.Y = y\n",
    "\n",
    "        #Expected concentration of the products\n",
    "        self.Xd = xd\n",
    "        self.Xf = xf\n",
    "        self.Xw = xw\n",
    "\n",
    "        #Reflux ratio in the column\n",
    "        self.R = r\n",
    "\n",
    "        #Molar Feed Rate to the column\n",
    "        self.F = f\n",
    "\n",
    "    # Method to fit a smooth in equillibrum curve\n",
    "    def fitcurve(self,order):\n",
    "        #Sampling points\n",
    "        self.x_samp = np.arange(0, 1, 0.01)\n",
    "        self.coeff, self.y_fit = FitCurve(self.X,self.Y,self.x_samp, order)\n",
    "\n",
    "    # Method to calculate amount of distillate and bottoms product\n",
    "    def calculate_DW(self):\n",
    "\n",
    "        #Variable Matrices\n",
    "        self.A1 = np.array([[  self.F         ],\n",
    "                            [  self.F*self.Xf ]])\n",
    "        self.B1 = np.array([[ 1     , 1        ],\n",
    "                            [self.Xd, self.Xw  ]])\n",
    "\n",
    "        #Solving for D and W\n",
    "        self.sol1 = np.linalg.solve(self.B1, self.A1)\n",
    "\n",
    "        self.D = self.sol1[0][0]\n",
    "        self.W = self.sol1[1][0]\n",
    "\n",
    "    # Method to calculate flowrate of liquid and gas in stripping section\n",
    "    def calculate_LV(self):\n",
    "        self.L = self.R * self.D\n",
    "        self.V = self.L + self.D\n",
    "\n",
    "        self.Lbar = self.L + self.F\n",
    "        self.Vbar = self.Lbar - self.W\n",
    "\n",
    "    # Method to calculate the operating line\n",
    "    def calculate_op_line(self,q):\n",
    "        #Rectifying Section\n",
    "        self.Slope_rect = self.R/(self.R+1)\n",
    "        self.Inter_rect = self.Xd/(self.R+1)\n",
    "\n",
    "        if(q == 1):\n",
    "            self.Feed_X = self.Xf\n",
    "            self.Feed_Y = (self.Slope_rect*self.Feed_X)+self.Inter_rect\n",
    "        else:\n",
    "            #Feed Section\n",
    "            self.Slope_feed = q/(q-1)\n",
    "            self.Inter_feed = self.Xf/(q-1)\n",
    "    \n",
    "            #Variable Matrices\n",
    "            self.A2 = np.array([[  self.Inter_feed  ],\n",
    "                                [ -self.Inter_rect] ])\n",
    "            self.B2 = np.array([[ self.Slope_feed ,-1 ],\n",
    "                                [ self.Slope_rect ,-1 ]])\n",
    "\n",
    "            #Solving for Feed Point\n",
    "            self.sol2 = np.linalg.solve(self.B2, self.A2)\n",
    "\n",
    "            self.Feed_X = self.sol2[0][0]\n",
    "            self.Feed_Y = self.sol2[1][0]\n",
    "\n",
    "        #Stripping Section\n",
    "        self.Slope_strip = (self.Feed_Y-self.Xw)/(self.Feed_X-self.Xw)\n",
    "        self.Inter_strip = -(((self.Feed_Y-self.Xw)*self.Feed_X)/(self.Feed_X-self.Xw))+self.Feed_Y\n",
    "\n",
    "    # Rectifying Section Operating Line\n",
    "    def Y_Rec(self,X):\n",
    "        return((self.Slope_rect*X)+(self.Inter_rect))\n",
    "\n",
    "    # Stripping Section Operating Line\n",
    "    def Y_Str(self,X):\n",
    "        return((self.Slope_strip*X)+(self.Inter_strip))\n",
    "\n",
    "    # Calculating Equillibrum Stages\n",
    "    def calculate_eq_stg(self,order):\n",
    "        self.Y_stg = []\n",
    "        self.X_stg = [self.Xd]\n",
    "\n",
    "        self.Xtemp = self.Xd\n",
    "        self.Ytemp = self.Xd\n",
    "\n",
    "        self.cnt = 0\n",
    "\n",
    "        while(self.Xtemp > self.Xw):\n",
    "            if(self.Xtemp > self.Feed_X):\n",
    "                if(self.cnt == 0):\n",
    "                    self.Ytemp = self.Y_Rec(self.Xtemp)\n",
    "                    self.Y_stg.append(self.Ytemp)  \n",
    "                else:  \n",
    "                    self.Ytemp = self.Y_Rec(self.Xtemp)\n",
    "                    self.Y_stg.append(self.Ytemp[0])\n",
    "                \n",
    "                self.Xtemp = Get_X(self.Ytemp, self.coeff,self.x_samp,order) \n",
    "                self.X_stg.append(self.Xtemp[0])   \n",
    "                self.cnt += 1\n",
    "            else: \n",
    "                self.Ytemp = self.Y_Str(self.Xtemp)\n",
    "                self.Y_stg.append(self.Ytemp[0])\n",
    "                self.Xtemp = Get_X(self.Ytemp, self.coeff, self.x_samp, order) \n",
    "                self.X_stg.append(self.Xtemp[0])   \n",
    "\n",
    "        self.Y_stg.append(self.Xtemp[0])\n",
    "\n",
    "    # Graphical Design for distillation Column\n",
    "    def plot_design(self,order):\n",
    "        #Plotting Data points\n",
    "        plt.axes([0,0,1,1])\n",
    "        plt.plot(self.X,self.Y,'bx',label='x-y Data')\n",
    "        plt.title('Distillation Column Design (MacCabe-Thiele Method)')\n",
    "        plt.xlabel('x')\n",
    "        plt.ylabel('y')\n",
    "\n",
    "        #Sketching Best fit curve\n",
    "        plt.plot(self.x_samp, self.y_fit, 'b-',label='Best Fit Curve')\n",
    "        plt.grid(False)\n",
    "        plt.plot([0, 1],[0, 1],'b--')\n",
    "        plt.plot([self.Xd, self.Xf, self.Xw, self.Feed_X],[self.Xd, self.Xf, self.Xw, self.Feed_Y],'go')\n",
    "\n",
    "        #Sketching Operating Lines\n",
    "        plt.plot([self.Xd, self.Feed_X, self.Xw],[self.Xd, self.Feed_Y, self.Xw],'g--',label='Operating Lines')\n",
    "        plt.plot([self.Feed_X, self.Xf],[self.Feed_Y, self.Xf],'g--')\n",
    "\n",
    "        #Sketching Stages on the Diagram\n",
    "        for m in range(0,(len(self.X_stg)-1),1):\n",
    "            plt.plot([self.X_stg[m], self.X_stg[m+1]], [self.Y_stg[m], self.Y_stg[m]], 'ro-')\n",
    "            if(m != (len(self.X_stg)-2)):\n",
    "                plt.plot([self.X_stg[m+1], self.X_stg[m+1]], [self.Y_stg[m], self.Y_stg[m+1]], 'ro-')\n",
    "            else:\n",
    "                plt.plot([self.X_stg[m+1], self.X_stg[m+1]], [self.Y_stg[m], self.Y_stg[m+1]], 'ro-',label='Theretical Stages')\n",
    "            \n",
    "        plt.legend()"
   ]
  },
  {
   "cell_type": "markdown",
   "metadata": {},
   "source": [
    "## Distillation Column Design"
   ]
  },
  {
   "cell_type": "code",
   "execution_count": 6,
   "metadata": {},
   "outputs": [],
   "source": [
    "def Design_Dist_Column(xd,xf,xw,r,f,order,q):\n",
    "\n",
    "    #Accquiring VLE Data\n",
    "    ''' Mole Fraction of MVC in liquid phase '''\n",
    "    x = [0, 0.074084725, 0.164856116, 0.272477024, 0.401160775, 0.55633974, 0.745066193, 0.951168053]\n",
    "\n",
    "    ''' Mole Fraction of MVC in gas phase '''\n",
    "    y = [0, 0.220202250, 0.415447791, 0.579231452, 0.715550937, 0.828020069, 0.919890023, 0.987372668]\n",
    "\n",
    "    design_prob = Distillation(x,y,xd,xf,xw,r,f)\n",
    "\n",
    "    design_prob.fitcurve(order)\n",
    "\n",
    "    design_prob.calculate_DW()\n",
    "\n",
    "    design_prob.calculate_LV()\n",
    "\n",
    "    design_prob.calculate_op_line(q)\n",
    "\n",
    "    design_prob.calculate_eq_stg(order)\n",
    "\n",
    "    design_prob.plot_design(order)"
   ]
  },
  {
   "cell_type": "markdown",
   "metadata": {},
   "source": [
    "## Interactive Cell"
   ]
  },
  {
   "cell_type": "code",
   "execution_count": 7,
   "metadata": {},
   "outputs": [
    {
     "data": {
      "application/vnd.jupyter.widget-view+json": {
       "model_id": "7cfb7d8ce3414ae0b26e6065c0bc4189",
       "version_major": 2,
       "version_minor": 0
      },
      "text/plain": [
       "interactive(children=(FloatSlider(value=0.9, continuous_update=False, description='xd', max=0.99, min=0.7, ste…"
      ]
     },
     "metadata": {},
     "output_type": "display_data"
    },
    {
     "data": {
      "text/plain": [
       "<function __main__.Design_Dist_Column(xd, xf, xw, r, f, order, q)>"
      ]
     },
     "execution_count": 7,
     "metadata": {},
     "output_type": "execute_result"
    }
   ],
   "source": [
    "wg.interact(Design_Dist_Column,\n",
    "            xd=wg.FloatSlider(value=0.9,max=0.99,min=0.7,step=0.01,continuous_update=False),\n",
    "            xf=wg.FloatSlider(value=0.4,max=0.5,min=0.35,step=0.05,continuous_update=False),\n",
    "            xw=wg.FloatSlider(value=0.1,max=0.2,min=0.01,step=0.01,continuous_update=False),\n",
    "            r=wg.FloatSlider(value=3,max=10,min=1.2,step=0.5,continuous_update=False),\n",
    "            f=wg.IntSlider(value=10,max=100,min=1,step=10,continuous_update=False),\n",
    "            order=wg.IntSlider(value=5,max=7,min=2,step=1,continuous_update=False),\n",
    "            q=wg.FloatSlider(value=0.5,max=2,min=0,step=0.1,continuous_update=False))"
   ]
  }
 ],
 "metadata": {
  "interpreter": {
   "hash": "b5c5f3127cf5e1f9cada1137e78f387fa507c70de0120f406593733c62e6d6f2"
  },
  "kernelspec": {
   "display_name": "Python 3",
   "language": "python",
   "name": "python3"
  },
  "language_info": {
   "codemirror_mode": {
    "name": "ipython",
    "version": 3
   },
   "file_extension": ".py",
   "mimetype": "text/x-python",
   "name": "python",
   "nbconvert_exporter": "python",
   "pygments_lexer": "ipython3",
   "version": "3.8.5"
  }
 },
 "nbformat": 4,
 "nbformat_minor": 4
}
